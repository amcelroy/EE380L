{
 "cells": [
  {
   "cell_type": "code",
   "execution_count": 52,
   "metadata": {},
   "outputs": [],
   "source": [
    "import numpy as np\n",
    "import matplotlib.pyplot as plt\n",
    "import pandas as pd\n",
    "from sklearn.model_selection import train_test_split\n",
    "from sklearn.linear_model import LogisticRegression, LogisticRegressionCV\n",
    "from sklearn.tree import DecisionTreeClassifier\n",
    "import seaborn as sns\n",
    "from sklearn.ensemble import AdaBoostClassifier\n",
    "from sklearn.metrics import confusion_matrix"
   ]
  },
  {
   "cell_type": "code",
   "execution_count": 111,
   "metadata": {},
   "outputs": [],
   "source": [
    "class confusion_matrix_metrics(object):\n",
    "    def __init__(self,M):\n",
    "        self.M = M\n",
    "        self.TP = M[0,0]\n",
    "        self.FN = M[0,1]\n",
    "        self.FP = M[1,0]\n",
    "        self.TN = M[1,1]\n",
    "    \n",
    "    def sensitivity(self):\n",
    "        return self.TP/(self.TP + self.FN)\n",
    "    def specificity(self):\n",
    "        return self.TN/(self.TN + self.FP)\n",
    "    def precision(self):\n",
    "        return self.TP/(self.TP + self.FP)\n",
    "    def negative_predictive_value(self):\n",
    "        return self.TN/(self.TN + self.FN)\n",
    "    def miss_rate(self):\n",
    "        return 1 - self.sensitivity()\n",
    "    def fall_out(self):\n",
    "        return 1 - self.specificity()\n",
    "    def false_discovery(self):\n",
    "        return 1 - self.precision()\n",
    "    def false_omission(self):\n",
    "        return 1 - self.negative_predictive_value()\n",
    "    def threat_score(self):\n",
    "        return self.TP/(self.TP + self.FN + self.FP)\n",
    "    def accuracy(self):\n",
    "        return (self.TP + self.TN)/(self.TP + self. TN + self.FP + self.FN)\n",
    "    def balanced_accuracy(self):\n",
    "        return self.sensitivity()/2 + self.specificity()/2"
   ]
  },
  {
   "cell_type": "code",
   "execution_count": 124,
   "metadata": {},
   "outputs": [],
   "source": [
    "df = pd.read_csv('mimic_dataset.csv')\n",
    "df.drop(columns=['Unnamed: 0'],inplace=True)\n",
    "fillcols = {'hospital_expire_flag':0,'age':df.age.mean(),'NumDrugs':0,'num_procedures':0,'curr_service':0,'num_serv':0,'num_transfers':0,'curr_careunit':0,\\\n",
    "            'avg_los':df.avg_los.mean(),'tot_los':df.tot_los.mean(),'num_unique_reads':df.num_unique_reads.mean(),\\\n",
    "           'total_reads':df.total_reads.mean(),'uinique_caregivers':df.uinique_caregivers.mean(),'total_icd9':df.total_icd9.mean(),'total_icu_hours':0,\\\n",
    "           'avg_icu_hours':0,'total_icu_stays':0,'avg_num_drug_administered':0,'max_drug_administered':0,'total_input_drugs':0,'tot_routes':0,\\\n",
    "           'patientweight':df.patientweight.mean(),'tot_org':0,'org_name':0,'org_itemid':0}\n",
    "df.fillna(value=fillcols,inplace=True)\n",
    "serv = df.curr_service.unique()\n",
    "care = df.curr_careunit.unique()\n",
    "org = df.org_name.unique()\n",
    "\n",
    "def replace_stuff(s):\n",
    "    new_dic = {}\n",
    "    i = 1\n",
    "    for j in s:\n",
    "        if j != 0:\n",
    "            new_dic[j] = i\n",
    "            i +=1\n",
    "    return new_dic\n",
    "df.replace({'curr_service':replace_stuff(serv),'curr_careunit':replace_stuff(care),'org_name':replace_stuff(org)},inplace=True)\n",
    "df = df.apply(np.int64)\n",
    "y = df.hospital_expire_flag\n",
    "X = df.drop(columns=['hospital_expire_flag'])\n",
    "X_train, X_test, y_train, y_test = train_test_split(X, y, test_size=0.33, random_state=42)"
   ]
  },
  {
   "cell_type": "code",
   "execution_count": 125,
   "metadata": {},
   "outputs": [
    {
     "data": {
      "text/plain": [
       "0.3055822906641001"
      ]
     },
     "execution_count": 125,
     "metadata": {},
     "output_type": "execute_result"
    }
   ],
   "source": [
    "model = AdaBoostClassifier()\n",
    "model.fit(X_train,y_train)\n",
    "yhat = model.predict(X_test)\n",
    "M = confusion_matrix(y_true=y_test,y_pred=yhat)\n",
    "metrics = confusion_matrix_metrics(M)\n",
    "metrics.sensitivity()\n",
    "metrics.specificity()"
   ]
  },
  {
   "cell_type": "code",
   "execution_count": 126,
   "metadata": {},
   "outputs": [
    {
     "data": {
      "text/plain": [
       "0.6444026243607476"
      ]
     },
     "execution_count": 126,
     "metadata": {},
     "output_type": "execute_result"
    }
   ],
   "source": [
    "metrics.balanced_accuracy()"
   ]
  },
  {
   "cell_type": "markdown",
   "metadata": {},
   "source": [
    "### Class Balancing"
   ]
  },
  {
   "cell_type": "code",
   "execution_count": 127,
   "metadata": {},
   "outputs": [],
   "source": [
    "df1 = df[df.hospital_expire_flag == 1]\n",
    "df2 = df[df.hospital_expire_flag == 0]\n",
    "df2 = df2.sample(n=len(df1))\n",
    "df3 = df1.append(df2)\n",
    "X = df3.drop(columns=['hospital_expire_flag'])\n",
    "y = df3.hospital_expire_flag\n",
    "X_train1, X_test1, y_train1, y_test1 = train_test_split(X, y, test_size=0.33, random_state=42)"
   ]
  },
  {
   "cell_type": "code",
   "execution_count": 128,
   "metadata": {},
   "outputs": [],
   "source": [
    "model = AdaBoostClassifier()\n",
    "model.fit(X_train1,y_train1)\n",
    "yhat1 = model.predict(X_test1)\n",
    "yhat = model.predict(X_test)"
   ]
  },
  {
   "cell_type": "code",
   "execution_count": 130,
   "metadata": {},
   "outputs": [],
   "source": [
    "M1 = confusion_matrix(y_true=y_test1,y_pred=yhat1)\n",
    "M = confusion_matrix(y_test,yhat)\n",
    "metrics = confusion_matrix_metrics(M)\n",
    "metrics1 = confusion_matrix_metrics(M1)"
   ]
  },
  {
   "cell_type": "code",
   "execution_count": 138,
   "metadata": {},
   "outputs": [
    {
     "data": {
      "text/plain": [
       "array([[1616,  394],\n",
       "       [ 419, 1706]], dtype=int64)"
      ]
     },
     "execution_count": 138,
     "metadata": {},
     "output_type": "execute_result"
    }
   ],
   "source": [
    "M1"
   ]
  },
  {
   "cell_type": "code",
   "execution_count": null,
   "metadata": {},
   "outputs": [],
   "source": []
  },
  {
   "cell_type": "code",
   "execution_count": null,
   "metadata": {},
   "outputs": [],
   "source": []
  },
  {
   "cell_type": "code",
   "execution_count": 103,
   "metadata": {},
   "outputs": [],
   "source": []
  },
  {
   "cell_type": "code",
   "execution_count": 104,
   "metadata": {},
   "outputs": [],
   "source": []
  },
  {
   "cell_type": "code",
   "execution_count": null,
   "metadata": {},
   "outputs": [],
   "source": []
  },
  {
   "cell_type": "code",
   "execution_count": null,
   "metadata": {},
   "outputs": [],
   "source": []
  },
  {
   "cell_type": "code",
   "execution_count": null,
   "metadata": {},
   "outputs": [],
   "source": []
  },
  {
   "cell_type": "code",
   "execution_count": null,
   "metadata": {},
   "outputs": [],
   "source": []
  },
  {
   "cell_type": "code",
   "execution_count": null,
   "metadata": {},
   "outputs": [],
   "source": []
  }
 ],
 "metadata": {
  "kernelspec": {
   "display_name": "Python 3",
   "language": "python",
   "name": "python3"
  },
  "language_info": {
   "codemirror_mode": {
    "name": "ipython",
    "version": 3
   },
   "file_extension": ".py",
   "mimetype": "text/x-python",
   "name": "python",
   "nbconvert_exporter": "python",
   "pygments_lexer": "ipython3",
   "version": "3.7.4"
  }
 },
 "nbformat": 4,
 "nbformat_minor": 2
}
